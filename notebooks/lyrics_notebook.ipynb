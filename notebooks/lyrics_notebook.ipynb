{
  "cells": [
    {
      "cell_type": "code",
      "execution_count": 39,
      "metadata": {
        "id": "yq_d2JPtCKDF"
      },
      "outputs": [],
      "source": [
        "import pandas as pd\n",
        "import numpy as np\n",
        "import ollama\n",
        "import requests"
      ]
    },
    {
      "cell_type": "code",
      "execution_count": null,
      "metadata": {},
      "outputs": [],
      "source": [
        "import logging\n",
        "import time\n",
        "import os\n",
        "# Configure logging to a file with timestamps, create in the current directory\n",
        "\n",
        "try:\n",
        "    # Print the current working directory to the log\n",
        "    current_directory = os.getcwd()\n",
        "    logging_file_name =  f\"{current_directory}/embedding_log_{time.strftime('%Y%m%d_%H%M%S')}.log\"\n",
        "    print(f\"Logging to file: {logging_file_name}\")\n",
        "    print(f\"Current working directory: {current_directory}\")\n",
        "\n",
        "    logging.basicConfig(filename=logging_file_name, level=logging.INFO, format='%(asctime)s - %(levelname)s - %(message)s', filemode='w') # 'w' overwrites, 'a' appends\n",
        "\n",
        "    logging.info(f\"Logging started. Current working directory: {current_directory}\")\n",
        "except Exception as e:\n",
        "    print(f\"Error configuring logging: {e}\")"
      ]
    },
    {
      "cell_type": "code",
      "execution_count": 41,
      "metadata": {
        "id": "PgfL2qsPEvDE"
      },
      "outputs": [],
      "source": [
        "df = pd.read_pickle('lyrics_chunk_3.pkl')"
      ]
    },
    {
      "cell_type": "code",
      "execution_count": 42,
      "metadata": {
        "id": "zhlhx-8WFZ6P"
      },
      "outputs": [],
      "source": [
        "lyrics = df['lyrics'].to_list()"
      ]
    },
    {
      "cell_type": "code",
      "execution_count": 43,
      "metadata": {
        "id": "UqnZGGXLFflj"
      },
      "outputs": [],
      "source": [
        "\n",
        "OLLAMA_HOST = \"http://localhost:11434\"\n",
        "\n",
        "def generate_response(model: str = \"nomic-embed-text\", prompt: str = \"The sky is blue because of Rayleigh scattering\"):\n",
        "    url = f\"{OLLAMA_HOST}/api/embeddings\"\n",
        "    payload = {\n",
        "        \"model\": model,\n",
        "        \"prompt\": prompt,\n",
        "        \"stream\": False  # Set to True if you want streaming\n",
        "    }\n",
        "\n",
        "    response = requests.post(url, json=payload)\n",
        "    response.raise_for_status()  # Throw if error\n",
        "    try:\n",
        "        return response.json().get(\"embedding\")\n",
        "    except:\n",
        "        return response.text"
      ]
    },
    {
      "cell_type": "code",
      "execution_count": null,
      "metadata": {
        "colab": {
          "base_uri": "https://localhost:8080/"
        },
        "id": "1xSDQAJpN9is",
        "outputId": "ceebeddd-8998-420e-a159-66ba01046335"
      },
      "outputs": [],
      "source": []
    },
    {
      "cell_type": "code",
      "execution_count": 44,
      "metadata": {},
      "outputs": [],
      "source": [
        "logging.info(\"Starting to process lyrics for embeddings...\")"
      ]
    },
    {
      "cell_type": "code",
      "execution_count": null,
      "metadata": {},
      "outputs": [],
      "source": [
        "for i, lyric in enumerate(lyrics[0:100]):\n",
        "    try:\n",
        "        logging.info(f\"Processing lyric index: {i}\")\n",
        "        embeddings = generate_response(prompt=lyric)\n",
        "        print(f\"Generated embeddings for lyric index {i}: {embeddings}\")\n",
        "        logging.info(f\"Generated embeddings for lyric index {i}\")\n",
        "        # Chroma Database integration would go here\n",
        "    except Exception as e:\n",
        "        logging.error(f\"Error processing lyric index {i}: {e}\")\n",
        "        logging.warning(f\"Skipping lyric index {i} with lyrics: {lyrics}\")"
      ]
    },
    {
      "cell_type": "code",
      "execution_count": null,
      "metadata": {},
      "outputs": [],
      "source": []
    }
  ],
  "metadata": {
    "colab": {
      "provenance": []
    },
    "kernelspec": {
      "display_name": ".ven",
      "language": "python",
      "name": "python3"
    },
    "language_info": {
      "codemirror_mode": {
        "name": "ipython",
        "version": 3
      },
      "file_extension": ".py",
      "mimetype": "text/x-python",
      "name": "python",
      "nbconvert_exporter": "python",
      "pygments_lexer": "ipython3",
      "version": "3.13.3"
    }
  },
  "nbformat": 4,
  "nbformat_minor": 0
}
