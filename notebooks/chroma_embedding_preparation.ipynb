{
 "cells": [
  {
   "cell_type": "code",
   "execution_count": 1,
   "id": "09bb20d9",
   "metadata": {},
   "outputs": [
    {
     "name": "stdout",
     "output_type": "stream",
     "text": [
      "\n",
      "\u001b[1m[\u001b[0m\u001b[34;49mnotice\u001b[0m\u001b[1;39;49m]\u001b[0m\u001b[39;49m A new release of pip is available: \u001b[0m\u001b[31;49m25.0.1\u001b[0m\u001b[39;49m -> \u001b[0m\u001b[32;49m25.1.1\u001b[0m\n",
      "\u001b[1m[\u001b[0m\u001b[34;49mnotice\u001b[0m\u001b[1;39;49m]\u001b[0m\u001b[39;49m To update, run: \u001b[0m\u001b[32;49mpip install --upgrade pip\u001b[0m\n",
      "Note: you may need to restart the kernel to use updated packages.\n",
      "Note: you may need to restart the kernel to use updated packages.\n",
      "\n",
      "\u001b[1m[\u001b[0m\u001b[34;49mnotice\u001b[0m\u001b[1;39;49m]\u001b[0m\u001b[39;49m A new release of pip is available: \u001b[0m\u001b[31;49m25.0.1\u001b[0m\u001b[39;49m -> \u001b[0m\u001b[32;49m25.1.1\u001b[0m\n",
      "\u001b[1m[\u001b[0m\u001b[34;49mnotice\u001b[0m\u001b[1;39;49m]\u001b[0m\u001b[39;49m To update, run: \u001b[0m\u001b[32;49mpip install --upgrade pip\u001b[0m\n",
      "\n",
      "\u001b[1m[\u001b[0m\u001b[34;49mnotice\u001b[0m\u001b[1;39;49m]\u001b[0m\u001b[39;49m A new release of pip is available: \u001b[0m\u001b[31;49m25.0.1\u001b[0m\u001b[39;49m -> \u001b[0m\u001b[32;49m25.1.1\u001b[0m\n",
      "\u001b[1m[\u001b[0m\u001b[34;49mnotice\u001b[0m\u001b[1;39;49m]\u001b[0m\u001b[39;49m To update, run: \u001b[0m\u001b[32;49mpip install --upgrade pip\u001b[0m\n",
      "Note: you may need to restart the kernel to use updated packages.\n",
      "Note: you may need to restart the kernel to use updated packages.\n",
      "\n",
      "\u001b[1m[\u001b[0m\u001b[34;49mnotice\u001b[0m\u001b[1;39;49m]\u001b[0m\u001b[39;49m A new release of pip is available: \u001b[0m\u001b[31;49m25.0.1\u001b[0m\u001b[39;49m -> \u001b[0m\u001b[32;49m25.1.1\u001b[0m\n",
      "\u001b[1m[\u001b[0m\u001b[34;49mnotice\u001b[0m\u001b[1;39;49m]\u001b[0m\u001b[39;49m To update, run: \u001b[0m\u001b[32;49mpip install --upgrade pip\u001b[0m\n",
      "\n",
      "\u001b[1m[\u001b[0m\u001b[34;49mnotice\u001b[0m\u001b[1;39;49m]\u001b[0m\u001b[39;49m A new release of pip is available: \u001b[0m\u001b[31;49m25.0.1\u001b[0m\u001b[39;49m -> \u001b[0m\u001b[32;49m25.1.1\u001b[0m\n",
      "\u001b[1m[\u001b[0m\u001b[34;49mnotice\u001b[0m\u001b[1;39;49m]\u001b[0m\u001b[39;49m To update, run: \u001b[0m\u001b[32;49mpip install --upgrade pip\u001b[0m\n",
      "Note: you may need to restart the kernel to use updated packages.\n",
      "Note: you may need to restart the kernel to use updated packages.\n",
      "\n",
      "\u001b[1m[\u001b[0m\u001b[34;49mnotice\u001b[0m\u001b[1;39;49m]\u001b[0m\u001b[39;49m A new release of pip is available: \u001b[0m\u001b[31;49m25.0.1\u001b[0m\u001b[39;49m -> \u001b[0m\u001b[32;49m25.1.1\u001b[0m\n",
      "\u001b[1m[\u001b[0m\u001b[34;49mnotice\u001b[0m\u001b[1;39;49m]\u001b[0m\u001b[39;49m To update, run: \u001b[0m\u001b[32;49mpip install --upgrade pip\u001b[0m\n",
      "\n",
      "\u001b[1m[\u001b[0m\u001b[34;49mnotice\u001b[0m\u001b[1;39;49m]\u001b[0m\u001b[39;49m A new release of pip is available: \u001b[0m\u001b[31;49m25.0.1\u001b[0m\u001b[39;49m -> \u001b[0m\u001b[32;49m25.1.1\u001b[0m\n",
      "\u001b[1m[\u001b[0m\u001b[34;49mnotice\u001b[0m\u001b[1;39;49m]\u001b[0m\u001b[39;49m To update, run: \u001b[0m\u001b[32;49mpip install --upgrade pip\u001b[0m\n",
      "Note: you may need to restart the kernel to use updated packages.\n",
      "Note: you may need to restart the kernel to use updated packages.\n",
      "\n",
      "\u001b[1m[\u001b[0m\u001b[34;49mnotice\u001b[0m\u001b[1;39;49m]\u001b[0m\u001b[39;49m A new release of pip is available: \u001b[0m\u001b[31;49m25.0.1\u001b[0m\u001b[39;49m -> \u001b[0m\u001b[32;49m25.1.1\u001b[0m\n",
      "\u001b[1m[\u001b[0m\u001b[34;49mnotice\u001b[0m\u001b[1;39;49m]\u001b[0m\u001b[39;49m To update, run: \u001b[0m\u001b[32;49mpip install --upgrade pip\u001b[0m\n",
      "\n",
      "\u001b[1m[\u001b[0m\u001b[34;49mnotice\u001b[0m\u001b[1;39;49m]\u001b[0m\u001b[39;49m A new release of pip is available: \u001b[0m\u001b[31;49m25.0.1\u001b[0m\u001b[39;49m -> \u001b[0m\u001b[32;49m25.1.1\u001b[0m\n",
      "\u001b[1m[\u001b[0m\u001b[34;49mnotice\u001b[0m\u001b[1;39;49m]\u001b[0m\u001b[39;49m To update, run: \u001b[0m\u001b[32;49mpip install --upgrade pip\u001b[0m\n",
      "Note: you may need to restart the kernel to use updated packages.\n",
      "Note: you may need to restart the kernel to use updated packages.\n"
     ]
    }
   ],
   "source": [
    "%pip install -q ollama\n",
    "%pip install -q chromadb\n",
    "%pip install -q pandas\n",
    "%pip install -q numpy\n",
    "%pip install -q tiktoken"
   ]
  },
  {
   "cell_type": "markdown",
   "id": "bc149a2b",
   "metadata": {},
   "source": [
    "### Data Preparation"
   ]
  },
  {
   "cell_type": "code",
   "execution_count": 2,
   "id": "3e7e830c",
   "metadata": {},
   "outputs": [],
   "source": [
    "import os\n",
    "import logging\n",
    "import pandas as pd\n",
    "import numpy as np\n",
    "from dotenv import load_dotenv\n",
    "\n",
    "# Load environment variables\n",
    "try:\n",
    "    load_dotenv()\n",
    "    logging.info(\"Environment variables loaded successfully.\")\n",
    "except Exception as e:\n",
    "    logging.error(f\"Error loading environment variables: {e}\")"
   ]
  },
  {
   "cell_type": "code",
   "execution_count": 3,
   "id": "9c04e037",
   "metadata": {},
   "outputs": [],
   "source": [
    "# Configure logging\n",
    "try:\n",
    "    logging.basicConfig(\n",
    "        filename=\"file_processing.log\",\n",
    "        level=logging.INFO,\n",
    "        format=\"%(asctime)s - %(levelname)s - %(message)s\"\n",
    "    )\n",
    "    logging.info(\"Logging configured successfully.\")\n",
    "except Exception as e:\n",
    "    print(f\"Error configuring logging: {e}\")\n",
    "    raise"
   ]
  },
  {
   "cell_type": "code",
   "execution_count": null,
   "id": "dfc63db8",
   "metadata": {},
   "outputs": [],
   "source": [
    "import os\n",
    "import logging\n",
    "\n",
    "DATA_PATH = \"./data\"\n",
    "CURRENT_FILE = \"embedding_model_dataset_6.pkl\"\n",
    "try:\n",
    "    if not os.path.exists(DATA_PATH):\n",
    "        os.makedirs(DATA_PATH)\n",
    "        logging.info(f\"Created directory: {DATA_PATH}\")\n",
    "    else:\n",
    "        logging.info(f\"Directory already exists: {DATA_PATH}\")\n",
    "except Exception as e:\n",
    "    logging.error(f\"Error creating directory {DATA_PATH}: {e}\")\n",
    "    raise"
   ]
  },
  {
   "cell_type": "code",
   "execution_count": 5,
   "id": "1377e4b1",
   "metadata": {},
   "outputs": [
    {
     "name": "stdout",
     "output_type": "stream",
     "text": [
      "Available .pkl files:\n",
      "1. Embedding Model Dataset 2.pkl\n",
      "2. Embedding Model Dataset 3.pkl\n",
      "3. Embedding Model Dataset 1.pkl\n",
      "4. Embedding Model Dataset 4.pkl\n",
      "5. embedding_model_dataset.pkl\n",
      "6. Embedding Model Dataset 5.pkl\n",
      "7. Embedding Model Dataset 6.pkl\n"
     ]
    }
   ],
   "source": [
    "import os\n",
    "import logging\n",
    "\n",
    "# Configure logging\n",
    "logging.basicConfig(level=logging.INFO, format='%(asctime)s - %(levelname)s - %(message)s')\n",
    "\n",
    "# List all .pkl files in the directory\n",
    "try:\n",
    "    pkl_files = [file for file in os.listdir(DATA_PATH) if file.endswith(\".pkl\")]\n",
    "    logging.info(f\"Found {len(pkl_files)} .pkl files in the directory.\")\n",
    "except Exception as e:\n",
    "    logging.error(f\"Error listing .pkl files in {DATA_PATH}: {e}\")\n",
    "    raise\n",
    "\n",
    "if not pkl_files:\n",
    "    logging.info(\"No .pkl files found in the directory.\")\n",
    "    print(\"No .pkl files found in the directory.\")\n",
    "    CURRENT_FILE = input(\"Enter the name of the file to save the DataFrame (default: pickle_part_9.pkl): \") or \"pickle_part_9.pkl\"\n",
    "    logging.info(f\"User entered file name: {CURRENT_FILE}\")\n",
    "else:\n",
    "    print(\"Available .pkl files:\")\n",
    "    logging.info(\"Listing available .pkl files:\")\n",
    "    for idx, file in enumerate(pkl_files, start=1):\n",
    "        print(f\"{idx}. {file}\")\n",
    "        logging.info(f\"{idx}. {file}\")\n",
    "    \n",
    "    # Prompt the user to select a file\n",
    "    choice = input(f\"Select a file by number (or press Enter to use the default: pickle_part_9.pkl): \")\n",
    "    if choice.isdigit() and 1 <= int(choice) <= len(pkl_files):\n",
    "        CURRENT_FILE = pkl_files[int(choice) - 1]\n",
    "        logging.info(f\"User selected file: {CURRENT_FILE}\")\n",
    "    else:\n",
    "        CURRENT_FILE = \"pickle_part_9.pkl\"\n",
    "        logging.info(f\"User did not select a valid file. Defaulting to: {CURRENT_FILE}\")\n",
    "\n",
    "logging.info(f\"Final selected file for processing: {CURRENT_FILE}\")\n",
    "CURRENT_FILE_PATH = os.path.join(DATA_PATH, CURRENT_FILE)"
   ]
  },
  {
   "cell_type": "code",
   "execution_count": 6,
   "id": "024ba6da",
   "metadata": {},
   "outputs": [
    {
     "data": {
      "text/html": [
       "<div>\n",
       "<style scoped>\n",
       "    .dataframe tbody tr th:only-of-type {\n",
       "        vertical-align: middle;\n",
       "    }\n",
       "\n",
       "    .dataframe tbody tr th {\n",
       "        vertical-align: top;\n",
       "    }\n",
       "\n",
       "    .dataframe thead th {\n",
       "        text-align: right;\n",
       "    }\n",
       "</style>\n",
       "<table border=\"1\" class=\"dataframe\">\n",
       "  <thead>\n",
       "    <tr style=\"text-align: right;\">\n",
       "      <th></th>\n",
       "      <th>id</th>\n",
       "      <th>title</th>\n",
       "      <th>artist</th>\n",
       "      <th>year</th>\n",
       "      <th>views</th>\n",
       "      <th>features</th>\n",
       "      <th>tag</th>\n",
       "      <th>language</th>\n",
       "      <th>cleaned_lyrics</th>\n",
       "    </tr>\n",
       "  </thead>\n",
       "  <tbody>\n",
       "    <tr>\n",
       "      <th>0</th>\n",
       "      <td>2209308</td>\n",
       "      <td>Grinch Schedule Dialogue</td>\n",
       "      <td>Jim Carrey</td>\n",
       "      <td>2000</td>\n",
       "      <td>153264</td>\n",
       "      <td>{}</td>\n",
       "      <td>pop</td>\n",
       "      <td>en</td>\n",
       "      <td>the nerve of those whos! inviting me done ther...</td>\n",
       "    </tr>\n",
       "    <tr>\n",
       "      <th>1</th>\n",
       "      <td>1625031</td>\n",
       "      <td>I Almost Let Go</td>\n",
       "      <td>Kurt Carr &amp; The Kurt Carr Singers</td>\n",
       "      <td>2000</td>\n",
       "      <td>125007</td>\n",
       "      <td>{}</td>\n",
       "      <td>pop</td>\n",
       "      <td>en</td>\n",
       "      <td>i almost let go i felt like i couldn't take li...</td>\n",
       "    </tr>\n",
       "    <tr>\n",
       "      <th>2</th>\n",
       "      <td>1359739</td>\n",
       "      <td>I’m the Map</td>\n",
       "      <td>Dora the Explorer</td>\n",
       "      <td>2000</td>\n",
       "      <td>115460</td>\n",
       "      <td>{\"Marc Weiner\"}</td>\n",
       "      <td>pop</td>\n",
       "      <td>en</td>\n",
       "      <td>if there's a place you got to go i'm the one y...</td>\n",
       "    </tr>\n",
       "    <tr>\n",
       "      <th>3</th>\n",
       "      <td>1395900</td>\n",
       "      <td>Dora The Explorer Theme</td>\n",
       "      <td>Dora the Explorer</td>\n",
       "      <td>2000</td>\n",
       "      <td>109832</td>\n",
       "      <td>{\"Harrison Chad\",\"Marc Weiner\",\"Kathleen Herles\"}</td>\n",
       "      <td>pop</td>\n",
       "      <td>en</td>\n",
       "      <td>dora! boots! come on, dora do-do-do-do-dora do...</td>\n",
       "    </tr>\n",
       "    <tr>\n",
       "      <th>4</th>\n",
       "      <td>1786575</td>\n",
       "      <td>I Hope You Dance</td>\n",
       "      <td>Lee Ann Womack</td>\n",
       "      <td>2000</td>\n",
       "      <td>80415</td>\n",
       "      <td>{}</td>\n",
       "      <td>country</td>\n",
       "      <td>en</td>\n",
       "      <td>i hope you never lose your sense of wonder you...</td>\n",
       "    </tr>\n",
       "  </tbody>\n",
       "</table>\n",
       "</div>"
      ],
      "text/plain": [
       "        id                     title                             artist  year  \\\n",
       "0  2209308  Grinch Schedule Dialogue                         Jim Carrey  2000   \n",
       "1  1625031           I Almost Let Go  Kurt Carr & The Kurt Carr Singers  2000   \n",
       "2  1359739               I’m the Map                  Dora the Explorer  2000   \n",
       "3  1395900   Dora The Explorer Theme                  Dora the Explorer  2000   \n",
       "4  1786575          I Hope You Dance                     Lee Ann Womack  2000   \n",
       "\n",
       "    views                                           features      tag  \\\n",
       "0  153264                                                 {}      pop   \n",
       "1  125007                                                 {}      pop   \n",
       "2  115460                                    {\"Marc Weiner\"}      pop   \n",
       "3  109832  {\"Harrison Chad\",\"Marc Weiner\",\"Kathleen Herles\"}      pop   \n",
       "4   80415                                                 {}  country   \n",
       "\n",
       "  language                                     cleaned_lyrics  \n",
       "0       en  the nerve of those whos! inviting me done ther...  \n",
       "1       en  i almost let go i felt like i couldn't take li...  \n",
       "2       en  if there's a place you got to go i'm the one y...  \n",
       "3       en  dora! boots! come on, dora do-do-do-do-dora do...  \n",
       "4       en  i hope you never lose your sense of wonder you...  "
      ]
     },
     "execution_count": 6,
     "metadata": {},
     "output_type": "execute_result"
    }
   ],
   "source": [
    "import logging\n",
    "import pandas as pd\n",
    "\n",
    "try:\n",
    "    df = pd.read_pickle(CURRENT_FILE_PATH)\n",
    "    logging.info(f\"DataFrame loaded successfully from {CURRENT_FILE_PATH}.\")\n",
    "except Exception as e:\n",
    "    logging.error(f\"Error loading DataFrame from {CURRENT_FILE_PATH}: {e}\")\n",
    "    raise\n",
    "\n",
    "df.head()"
   ]
  },
  {
   "cell_type": "code",
   "execution_count": 7,
   "id": "5abbc611",
   "metadata": {},
   "outputs": [
    {
     "name": "stdout",
     "output_type": "stream",
     "text": [
      "<class 'pandas.core.frame.DataFrame'>\n",
      "RangeIndex: 15422 entries, 0 to 15421\n",
      "Data columns (total 9 columns):\n",
      " #   Column          Non-Null Count  Dtype \n",
      "---  ------          --------------  ----- \n",
      " 0   id              15422 non-null  int64 \n",
      " 1   title           15422 non-null  object\n",
      " 2   artist          15422 non-null  object\n",
      " 3   year            15422 non-null  int64 \n",
      " 4   views           15422 non-null  int64 \n",
      " 5   features        15422 non-null  object\n",
      " 6   tag             15422 non-null  object\n",
      " 7   language        15422 non-null  object\n",
      " 8   cleaned_lyrics  15422 non-null  object\n",
      "dtypes: int64(3), object(6)\n",
      "memory usage: 1.1+ MB\n"
     ]
    }
   ],
   "source": [
    "df.info()"
   ]
  },
  {
   "cell_type": "code",
   "execution_count": 8,
   "id": "ea3a0db2",
   "metadata": {},
   "outputs": [],
   "source": [
    "# Replace all NaN values in a dataframe with an empty string\n",
    "df = df.fillna(\"\")\n",
    "\n",
    "# Rename cleaned_lyrics to lyrics for consistency\n",
    "df.rename(columns={\"cleaned_lyrics\": \"lyrics\"}, inplace=True)\n",
    "\n",
    "# Create three values for chroma embeddings\n",
    "# Documents, IDs, and Metadatas\n",
    "# Format the lyrics by removing new lines and extra spaces\n",
    "df[\"lyrics\"] = df[\"lyrics\"].str.replace(\"\\n\", \" \").str.replace(r\"\\s+\", \" \", regex=True).str.strip()\n",
    "\n",
    "# Convert the lyrics column to a list\n",
    "documents = df[\"lyrics\"].tolist()\n",
    "\n",
    "# Convert the ids to a string to keep them in a list\n",
    "ids = df[\"id\"].astype(str).tolist()\n",
    "\n",
    "# Metadata includes all columns except \"lyrics\" and \"id\"\n",
    "metadata = df.drop(columns=[\"lyrics\", \"id\"]).to_dict(orient=\"records\")"
   ]
  },
  {
   "cell_type": "code",
   "execution_count": 9,
   "id": "8b5fdf30",
   "metadata": {},
   "outputs": [
    {
     "name": "stdout",
     "output_type": "stream",
     "text": [
      "Number of documents: 15422\n",
      "Number of IDs: 15422\n",
      "Number of metadata entries: 15422\n"
     ]
    }
   ],
   "source": [
    "print(\"Number of documents:\", len(documents))\n",
    "print(\"Number of IDs:\", len(ids))\n",
    "print(\"Number of metadata entries:\", len(metadata))"
   ]
  },
  {
   "cell_type": "markdown",
   "id": "9c0f47c8",
   "metadata": {},
   "source": [
    "### Choma DB embed pushing"
   ]
  },
  {
   "cell_type": "code",
   "execution_count": 10,
   "id": "6bc64015",
   "metadata": {},
   "outputs": [],
   "source": [
    "from chromadb.utils.embedding_functions.ollama_embedding_function import (OllamaEmbeddingFunction)\n",
    "\n",
    "ollama_ef = OllamaEmbeddingFunction(\n",
    "    url=\"http://localhost:11434/api/embeddings\", # Corrected URL\n",
    "    model_name=\"nomic-embed-text\"\n",
    ")"
   ]
  },
  {
   "cell_type": "code",
   "execution_count": 11,
   "id": "40e84976",
   "metadata": {},
   "outputs": [],
   "source": [
    "COLLECTION_NAME = os.getenv(\"COLLECTION_NAME\") or \"test\""
   ]
  },
  {
   "cell_type": "code",
   "execution_count": null,
   "id": "487959fe",
   "metadata": {},
   "outputs": [],
   "source": [
    "collection = client.get_or_create_collection(name=COLLECTION_NAME, embedding_function=ollama_ef)"
   ]
  },
  {
   "cell_type": "code",
   "execution_count": 13,
   "id": "696d8407",
   "metadata": {},
   "outputs": [],
   "source": [
    "%%time\n",
    "from tqdm import tqdm\n",
    "\n",
    "# Define batch size\n",
    "BATCH_SIZE = 1000\n",
    "\n",
    "# Split the data into batches\n",
    "batches = [\n",
    "    (documents[i:i + BATCH_SIZE], ids[i:i + BATCH_SIZE], metadata[i:i + BATCH_SIZE])\n",
    "    for i in range(0, len(documents), BATCH_SIZE)\n",
    "]\n",
    "\n",
    "# Add documents to the collection in batches with progress tracking\n",
    "print(\"Adding documents to the collection in batches...\")\n",
    "logging.info(\"Starting batch addition of documents to the collection.\")\n",
    "\n",
    "# Initialize tqdm progress bar\n",
    "with tqdm(total=len(batches), desc=\"Processing Batches\", unit=\"batch\") as pbar:\n",
    "    for i, (doc_batch, id_batch, meta_batch) in enumerate(batches):\n",
    "        try:\n",
    "            # Add the current batch to the collection\n",
    "            collection.add(documents=doc_batch, ids=id_batch, metadatas=meta_batch)\n",
    "            logging.info(f\"Batch {i + 1}/{len(batches)} added successfully.\")\n",
    "        except Exception as e:\n",
    "            # Log and print the error for the current batch\n",
    "            logging.error(f\"Error adding batch {i + 1}/{len(batches)}: {e}\")\n",
    "            print(f\"Error adding batch {i + 1}/{len(batches)}: {e}\")\n",
    "        finally:\n",
    "            # Update the progress bar regardless of success or failure\n",
    "            pbar.update(1)\n",
    "\n",
    "# Print the final count of documents in the collection\n",
    "final_count = collection.count()\n",
    "print(f\"Number of documents in the collection '{COLLECTION_NAME}': {final_count}\")\n",
    "logging.info(f\"Final document count in the collection '{COLLECTION_NAME}': {final_count}\")"
   ]
  },
  {
   "cell_type": "code",
   "execution_count": 14,
   "id": "bd966570",
   "metadata": {},
   "outputs": [
    {
     "data": {
      "text/plain": [
       "[Collection(name=lyric_embeddings)]"
      ]
     },
     "execution_count": 14,
     "metadata": {},
     "output_type": "execute_result"
    }
   ],
   "source": [
    "client.list_collections()"
   ]
  },
  {
   "cell_type": "code",
   "execution_count": null,
   "id": "c6d89acd",
   "metadata": {},
   "outputs": [
    {
     "name": "stdout",
     "output_type": "stream",
     "text": [
      "Number of tokens: 55652810\n"
     ]
    }
   ],
   "source": [
    "import pandas as pd\n",
    "import tiktoken\n",
    "\n",
    "# Load your DataFrame\n",
    "# df = pd.read_csv(\"your_file.csv\") or define df here\n",
    "\n",
    "# Choose a model encoding\n",
    "encoding = tiktoken.encoding_for_model(\"text-embedding-3-small\")  # or \"gpt-3.5-turbo\", etc.\n",
    "\n",
    "# Count for documents, ids, and metadata\n",
    "text = \" \".join(documents)  # Concatenate all documents into a single string for token counting\n",
    "text += \" \".join(ids)  # Add ids to the text\n",
    "text += \" \".join([str(meta) for meta in metadata])  # Add metadata to the text\n",
    "# Count tokens\n",
    "tokens = encoding.encode(text)\n",
    "print(f\"Number of tokens: {len(tokens)}\")"
   ]
  },
  {
   "cell_type": "code",
   "execution_count": null,
   "id": "28e37541",
   "metadata": {},
   "outputs": [],
   "source": []
  }
 ],
 "metadata": {
  "kernelspec": {
   "display_name": ".venv",
   "language": "python",
   "name": "python3"
  },
  "language_info": {
   "codemirror_mode": {
    "name": "ipython",
    "version": 3
   },
   "file_extension": ".py",
   "mimetype": "text/x-python",
   "name": "python",
   "nbconvert_exporter": "python",
   "pygments_lexer": "ipython3",
   "version": "3.13.3"
  }
 },
 "nbformat": 4,
 "nbformat_minor": 5
}
